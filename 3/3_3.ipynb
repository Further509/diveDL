{
 "cells": [
  {
   "cell_type": "code",
   "execution_count": 11,
   "id": "a2a95127",
   "metadata": {},
   "outputs": [],
   "source": [
    "import numpy as np\n",
    "import torch\n",
    "from torch.utils import data\n",
    "from d2l import torch as d2l\n",
    "\n",
    "true_w = torch.tensor([2, -3.4])\n",
    "true_b = 4.2\n",
    "features, labels = d2l.synthetic_data(true_w, true_b, 1000)"
   ]
  },
  {
   "cell_type": "code",
   "execution_count": 12,
   "id": "320c957f",
   "metadata": {},
   "outputs": [],
   "source": [
    "def load_array(data_arrays, batch_size, is_train=True):  #@save\n",
    "    \"\"\"构造一个PyTorch数据迭代器\"\"\"\n",
    "    dataset = data.TensorDataset(*data_arrays)\n",
    "    return data.DataLoader(dataset, batch_size, shuffle=is_train)\n",
    "\n",
    "batch_size = 10\n",
    "data_iter = load_array((features, labels), batch_size)"
   ]
  },
  {
   "cell_type": "code",
   "execution_count": 13,
   "id": "7a5ce27f",
   "metadata": {},
   "outputs": [
    {
     "data": {
      "text/plain": [
       "[tensor([[ 1.3208,  0.9305],\n",
       "         [-0.6045,  0.0943],\n",
       "         [-0.5300, -0.9264],\n",
       "         [-0.8467,  1.5685],\n",
       "         [ 0.0804,  0.1107],\n",
       "         [-0.8512, -0.1341],\n",
       "         [ 0.9990,  0.7718],\n",
       "         [-1.0395, -1.5910],\n",
       "         [ 0.0499,  1.0061],\n",
       "         [-0.4368,  1.8420]]),\n",
       " tensor([[ 3.6637],\n",
       "         [ 2.6766],\n",
       "         [ 6.2794],\n",
       "         [-2.8243],\n",
       "         [ 3.9949],\n",
       "         [ 2.9578],\n",
       "         [ 3.5809],\n",
       "         [ 7.5448],\n",
       "         [ 0.8911],\n",
       "         [-2.9367]])]"
      ]
     },
     "execution_count": 13,
     "metadata": {},
     "output_type": "execute_result"
    }
   ],
   "source": [
    "next(iter(data_iter))"
   ]
  },
  {
   "cell_type": "code",
   "execution_count": 14,
   "id": "821d9d8a",
   "metadata": {},
   "outputs": [],
   "source": [
    "# nn是神经网络的缩写\n",
    "from torch import nn\n",
    "\n",
    "net = nn.Sequential(nn.Linear(2, 1))"
   ]
  },
  {
   "cell_type": "code",
   "execution_count": 15,
   "id": "584a40c6",
   "metadata": {},
   "outputs": [
    {
     "data": {
      "text/plain": [
       "tensor([0.])"
      ]
     },
     "execution_count": 15,
     "metadata": {},
     "output_type": "execute_result"
    }
   ],
   "source": [
    "net[0].weight.data.normal_(0, 0.01)\n",
    "net[0].bias.data.fill_(0)"
   ]
  },
  {
   "cell_type": "code",
   "execution_count": 16,
   "id": "234e39c5",
   "metadata": {},
   "outputs": [],
   "source": [
    "loss = nn.HuberLoss()"
   ]
  },
  {
   "cell_type": "code",
   "execution_count": 17,
   "id": "488baad0",
   "metadata": {},
   "outputs": [],
   "source": [
    "trainer = torch.optim.SGD(net.parameters(), lr=0.03)"
   ]
  },
  {
   "cell_type": "code",
   "execution_count": 18,
   "id": "eadb024d",
   "metadata": {},
   "outputs": [
    {
     "name": "stdout",
     "output_type": "stream",
     "text": [
      "epoch 1, loss 2.228338\n",
      "epoch 2, loss 0.421625\n",
      "epoch 3, loss 0.001794\n"
     ]
    }
   ],
   "source": [
    "num_epochs = 3\n",
    "for epoch in range(num_epochs):\n",
    "    for X, y in data_iter:\n",
    "        l = loss(net(X) ,y)\n",
    "        trainer.zero_grad()\n",
    "        l.backward()\n",
    "        trainer.step()\n",
    "    l = loss(net(features), labels)\n",
    "    print(f'epoch {epoch + 1}, loss {l:f}')"
   ]
  },
  {
   "cell_type": "code",
   "execution_count": 19,
   "id": "0b4661a0",
   "metadata": {},
   "outputs": [
    {
     "name": "stdout",
     "output_type": "stream",
     "text": [
      "w的估计误差： tensor([ 0.0300, -0.0466])\n",
      "b的估计误差： tensor([0.0262])\n"
     ]
    }
   ],
   "source": [
    "w = net[0].weight.data\n",
    "print('w的估计误差：', true_w - w.reshape(true_w.shape))\n",
    "b = net[0].bias.data\n",
    "print('b的估计误差：', true_b - b)"
   ]
  },
  {
   "cell_type": "code",
   "execution_count": 20,
   "id": "0fe5579f",
   "metadata": {},
   "outputs": [
    {
     "name": "stdout",
     "output_type": "stream",
     "text": [
      "权重梯度: tensor([[-24.3675]])\n",
      "偏置梯度: tensor([-9.6025])\n"
     ]
    }
   ],
   "source": [
    "import torch\n",
    "\n",
    "model = torch.nn.Linear(in_features=1, out_features=1)  # 单变量线性回归\n",
    "criterion = torch.nn.MSELoss()\n",
    "\n",
    "x = torch.tensor([[2.0], [3.0]])  # 输入数据\n",
    "y_true = torch.tensor([[4.0], [5.0]])\n",
    "y_pred = model(x)\n",
    "loss = criterion(y_pred, y_true)\n",
    "loss.backward()  # 反向传播计算梯度\n",
    "\n",
    "print(\"权重梯度:\", model.weight.grad)  # 输出梯度值，如 tensor([[3.1415]])\n",
    "print(\"偏置梯度:\", model.bias.grad)    # 输出梯度值，如 tensor([0.5772])"
   ]
  },
  {
   "cell_type": "code",
   "execution_count": null,
   "id": "fdc18b4b",
   "metadata": {},
   "outputs": [],
   "source": []
  }
 ],
 "metadata": {
  "kernelspec": {
   "display_name": "d2l",
   "language": "python",
   "name": "python3"
  },
  "language_info": {
   "codemirror_mode": {
    "name": "ipython",
    "version": 3
   },
   "file_extension": ".py",
   "mimetype": "text/x-python",
   "name": "python",
   "nbconvert_exporter": "python",
   "pygments_lexer": "ipython3",
   "version": "3.8.18"
  }
 },
 "nbformat": 4,
 "nbformat_minor": 5
}
